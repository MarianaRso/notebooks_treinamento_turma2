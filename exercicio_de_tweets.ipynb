{
  "nbformat": 4,
  "nbformat_minor": 0,
  "metadata": {
    "colab": {
      "name": "exercicio de tweets",
      "provenance": [],
      "authorship_tag": "ABX9TyMk5ns/rBqap9CAoa9pzCe6",
      "include_colab_link": true
    },
    "kernelspec": {
      "name": "python3",
      "display_name": "Python 3"
    },
    "language_info": {
      "name": "python"
    }
  },
  "cells": [
    {
      "cell_type": "markdown",
      "metadata": {
        "id": "view-in-github",
        "colab_type": "text"
      },
      "source": [
        "<a href=\"https://colab.research.google.com/github/MarianaRso/notebooks_treinamento_turma2/blob/Mariana-Ribeiro/exercicio_de_tweets.ipynb\" target=\"_parent\"><img src=\"https://colab.research.google.com/assets/colab-badge.svg\" alt=\"Open In Colab\"/></a>"
      ]
    },
    {
      "cell_type": "code",
      "metadata": {
        "colab": {
          "base_uri": "https://localhost:8080/"
        },
        "id": "-5mU4EHBhBJ2",
        "outputId": "1fbf8b82-62e6-41c8-c5a9-3941deee5425"
      },
      "source": [
        "#### EXERCÍCIO HUMOR DOS TWEETS ####\n",
        "\n",
        "happyWords = ['great', 'excited', 'happy','nice', 'wonderful', 'amazing','good', 'best']\n",
        "sadWords = ['sad','bad','tragic','unhappy','worst']\n",
        "\n",
        "tweets = [\"Wow, what a great day today!! #sunshine\",\n",
        "\"I feel sad about the things going on around us. #covid19\",\n",
        "\"I'm really excited to learn Python with @JovianML #zerotopandas\",\n",
        "\"This is a really nice song. #linkinpark\",\n",
        "\"The python programming language is useful for data science\",\n",
        "\"Why do bad things happen to me?\",\n",
        "\"Apple announces the release of the new iPhone 12. Fans are excited.\",\n",
        "\"Spent my day with family!! #happy\",\n",
        "\"Check out my blog post on common string operations in Python. #zerotopandas\",\n",
        "\"Freecodecamp has great coding tutorials. #skillup\"]\n",
        "\n",
        "numero_de_tweets = len(tweets)\n",
        "print(numero_de_tweets)\n",
        "#10\n",
        "\n",
        "amostra = tweets[0]\n",
        "print(amostra)\n",
        "# Wow, what a great day toda!! #sunshine\n",
        "\n",
        "tweet_feliz = False\n",
        "\n",
        "\n",
        "\n",
        "for great in happyWords:\n",
        "   \n",
        "   if great in amostra:\n",
        "        \n",
        "        tweet_feliz = True\n",
        "\n",
        "tweet_feliz \n",
        "#true\n",
        "\n",
        "\n",
        "n_de_tweets_felizes = 0\n",
        "for tweet in tweets:\n",
        "    for great in happyWords:\n",
        "        if great in tweet:\n",
        "            n_de_tweets_felizes = (n_de_tweets_felizes + 1) \n",
        "\n",
        "print(\"Número de tweets felizes:\", n_de_tweets_felizes)\n",
        "#Número de tweets felizes:6\n",
        "\n",
        "n_de_tweets_tristes = 0\n",
        "\n",
        "for tweet in tweets:\n",
        "    for sad in sadWords:\n",
        "        if sad in tweet:\n",
        "            print(sad)\n",
        "            n_de_tweets_tristes = n_de_tweets_tristes + 1\n",
        "print(\"Número de tweets tristes:\", n_de_tweets_tristes)"
      ],
      "execution_count": null,
      "outputs": [
        {
          "output_type": "stream",
          "name": "stdout",
          "text": [
            "10\n",
            "Wow, what a great day today!! #sunshine\n",
            "Número de tweets felizes: 6\n",
            "sad\n",
            "bad\n",
            "Número de tweets tristes: 2\n"
          ]
        }
      ]
    }
  ]
}